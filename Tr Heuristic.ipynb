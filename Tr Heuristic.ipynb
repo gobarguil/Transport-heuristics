{
 "cells": [
  {
   "cell_type": "code",
   "execution_count": 2,
   "metadata": {},
   "outputs": [],
   "source": [
    "import math as m\n",
    "import numpy as np\n",
    "import matplotlib.pyplot as plt"
   ]
  },
  {
   "cell_type": "markdown",
   "metadata": {},
   "source": [
    "Data set"
   ]
  },
  {
   "cell_type": "code",
   "execution_count": 3,
   "metadata": {},
   "outputs": [],
   "source": [
    "A=np.array([[0, 10, 5, 2], [10, 0, 7, 3], [5, 7, 0, 6], [2, 3, 6, 0]])\n",
    "n=4\n",
    "C_0=100\n",
    "C_t=1\n",
    "maxval=A.max()"
   ]
  },
  {
   "cell_type": "markdown",
   "metadata": {},
   "source": [
    "Objective function: $k \\cdot C_0 + C_t \\cdot TS$"
   ]
  },
  {
   "cell_type": "code",
   "execution_count": 4,
   "metadata": {},
   "outputs": [],
   "source": [
    "x=np.array([0,1,1,1])\n",
    "k=3"
   ]
  },
  {
   "cell_type": "markdown",
   "metadata": {},
   "source": [
    "2 part. Divide all vertices to clusters"
   ]
  },
  {
   "cell_type": "code",
   "execution_count": 5,
   "metadata": {},
   "outputs": [
    {
     "name": "stdout",
     "output_type": "stream",
     "text": [
      "[ 10.   0.   0.   0.]\n",
      "[ 2.  0.  0.  0.]\n",
      "[3 1 2 3]\n"
     ]
    }
   ],
   "source": [
    "cl=np.arange(0,n)\n",
    "dist=(np.zeros(n)+maxval)*((x-1)*(-1))\n",
    "print(dist)\n",
    "for i in range(n):\n",
    "    if x[i]==0:\n",
    "        for j in range(n):\n",
    "            if A[i,j]>0 and x[j]==1 and dist[i]>A[i,j]:\n",
    "                dist[i]=A[i,j]\n",
    "                cl[i]=j\n",
    "    \n",
    "print(dist)\n",
    "print(cl)"
   ]
  },
  {
   "cell_type": "markdown",
   "metadata": {},
   "source": [
    "3 part. Compute TS for this clusters"
   ]
  },
  {
   "cell_type": "code",
   "execution_count": 6,
   "metadata": {},
   "outputs": [
    {
     "name": "stdout",
     "output_type": "stream",
     "text": [
      "4.0\n",
      "304.0\n"
     ]
    }
   ],
   "source": [
    "TS=0\n",
    "for i in range(n):\n",
    "    if x[i]==0:\n",
    "        TS=TS+2*dist[i]\n",
    "print(TS)\n",
    "TotCost=k*C_0+C_t*TS\n",
    "print(TotCost)"
   ]
  },
  {
   "cell_type": "markdown",
   "metadata": {},
   "source": [
    "Heuristic algorithm with bad choosing of depots and bad TS"
   ]
  },
  {
   "cell_type": "code",
   "execution_count": 11,
   "metadata": {},
   "outputs": [
    {
     "name": "stdout",
     "output_type": "stream",
     "text": [
      "[ 10.   0.   0.   0.]\n",
      "[ 2.  0.  0.  0.]\n",
      "[3 1 2 3]\n",
      "4.0\n",
      "304.0\n",
      "[ 10.  10.   0.   0.]\n",
      "[ 2.  3.  0.  0.]\n",
      "[3 3 2 3]\n",
      "10.0\n",
      "210.0\n",
      "[ 10.  10.  10.   0.]\n",
      "[ 2.  3.  6.  0.]\n",
      "[3 3 3 3]\n",
      "22.0\n",
      "122.0\n"
     ]
    }
   ],
   "source": [
    "A=np.array([[0, 10, 5, 2], [10, 0, 7, 3], [5, 7, 0, 6], [2, 3, 6, 0]])\n",
    "n=4\n",
    "C_0=100\n",
    "C_t=1\n",
    "maxval=A.max()\n",
    "x=np.array([1,1,1,1])\n",
    "Cost=np.zeros(n)+n*C_0\n",
    "k=n\n",
    "e=np.zeros(n)+1\n",
    "while k > 1:\n",
    "    m=0\n",
    "    x1=np.copy(x)\n",
    "    while m < n:\n",
    "        if x[m]==0:\n",
    "            m=m+1\n",
    "        else:\n",
    "            x[m]=0\n",
    "            \n",
    "            cl=np.arange(0,n)\n",
    "            dist=(np.zeros(n)+maxval)*((x-1)*(-1))\n",
    "            print(dist)\n",
    "            for i in range(n):\n",
    "                if x[i]==0:\n",
    "                    for j in range(n):\n",
    "                        if A[i,j]>0 and x[j]==1 and dist[i]>A[i,j]:\n",
    "                            dist[i]=A[i,j]\n",
    "                            cl[i]=j\n",
    "            print(dist)\n",
    "            print(cl)\n",
    "            TS=0\n",
    "            for i in range(n):\n",
    "                if x[i]==0:\n",
    "                    TS=TS+2*dist[i]\n",
    "            print(TS)\n",
    "            TotCost=(k-1)*C_0+C_t*TS\n",
    "            print(TotCost)\n",
    "            if TotCost<Cost[k-1]:\n",
    "                Cost[k-2]=TotCost\n",
    "                k=k-1\n",
    "                m=n\n",
    "            else:\n",
    "                x[m]=1\n",
    "                m+=1\n",
    "                \n",
    "    if e.dot(x1-x)==0:\n",
    "        k1=np.copy(k)\n",
    "        k=0"
   ]
  },
  {
   "cell_type": "code",
   "execution_count": null,
   "metadata": {},
   "outputs": [],
   "source": []
  },
  {
   "cell_type": "code",
   "execution_count": null,
   "metadata": {},
   "outputs": [],
   "source": []
  }
 ],
 "metadata": {
  "kernelspec": {
   "display_name": "Python 3",
   "language": "python",
   "name": "python3"
  },
  "language_info": {
   "codemirror_mode": {
    "name": "ipython",
    "version": 3
   },
   "file_extension": ".py",
   "mimetype": "text/x-python",
   "name": "python",
   "nbconvert_exporter": "python",
   "pygments_lexer": "ipython3",
   "version": "3.6.3"
  }
 },
 "nbformat": 4,
 "nbformat_minor": 2
}
