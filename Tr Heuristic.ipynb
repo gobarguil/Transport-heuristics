{
 "cells": [
  {
   "cell_type": "code",
   "execution_count": 1,
   "metadata": {
    "collapsed": true
   },
   "outputs": [],
   "source": [
    "import math as m\n",
    "import numpy as np\n",
    "import matplotlib.pyplot as plt\n",
    "from cvxpy import *"
   ]
  },
  {
   "cell_type": "markdown",
   "metadata": {},
   "source": [
    "Data set"
   ]
  },
  {
   "cell_type": "code",
   "execution_count": 2,
   "metadata": {
    "collapsed": true
   },
   "outputs": [],
   "source": [
    "A=np.array([[0, 10, 5, 2], [10, 0, 7, 3], [5, 7, 0, 6], [2, 3, 6, 0]])\n",
    "C_0=100\n",
    "C_t=1\n",
    "n=np.shape(A)[0]\n",
    "maxval=A.max()+1"
   ]
  },
  {
   "cell_type": "markdown",
   "metadata": {},
   "source": [
    "Objective function: $k \\cdot C_0 + C_t \\cdot TS$"
   ]
  },
  {
   "cell_type": "code",
   "execution_count": 3,
   "metadata": {
    "collapsed": true
   },
   "outputs": [],
   "source": [
    "x=np.array([0,0,0,1])\n",
    "k=np.count_nonzero(x)\n",
    "e=np.zeros(n)+1"
   ]
  },
  {
   "cell_type": "markdown",
   "metadata": {},
   "source": [
    "2 part. Divide all vertices to clusters"
   ]
  },
  {
   "cell_type": "code",
   "execution_count": 4,
   "metadata": {
    "collapsed": true
   },
   "outputs": [],
   "source": [
    "def distances(A,x):\n",
    "    n=np.size(x)\n",
    "    #cl=np.arange(0,n)\n",
    "    maxval=A.max()+1\n",
    "    dist=(np.zeros(n)+maxval)*((x-1)*(-1))\n",
    "    #print(dist)\n",
    "    for i in range(n):\n",
    "        if x[i]==0:\n",
    "            for j in range(n):\n",
    "                if A[i,j]>0 and x[j]==1 and dist[i]>A[i,j]:\n",
    "                    dist[i]=A[i,j]\n",
    "    #                cl[i]=j\n",
    "#   print(dist)\n",
    "#   print(cl)\n",
    "    return dist"
   ]
  },
  {
   "cell_type": "markdown",
   "metadata": {},
   "source": [
    "3 part. Compute TS for this clusters"
   ]
  },
  {
   "cell_type": "code",
   "execution_count": 5,
   "metadata": {
    "collapsed": true
   },
   "outputs": [],
   "source": [
    "def TotalCost(k,C_0,C_t,dist,e):\n",
    "    return k*C_0+C_t*(2*e.dot(dist))\n",
    "    "
   ]
  },
  {
   "cell_type": "markdown",
   "metadata": {},
   "source": [
    "Markov chain choosing of k"
   ]
  },
  {
   "cell_type": "code",
   "execution_count": 6,
   "metadata": {
    "collapsed": true
   },
   "outputs": [],
   "source": [
    "def stationar(A):\n",
    "    n=np.shape(A)[0]\n",
    "    e=np.zeros(n)+1\n",
    "    A_sum=np.outer(A.dot(e),e)\n",
    "    P=A/(A_sum)\n",
    "    P=P.T-np.eye(n)\n",
    "    x = Variable(n)\n",
    "    objective = Minimize(norm(P*x,2))\n",
    "    constraints = [sum_entries(x) == 1,\n",
    "                  x >= 0]\n",
    "    prob = Problem(objective, constraints)\n",
    "    result = prob.solve()\n",
    "    return x.value"
   ]
  },
  {
   "cell_type": "markdown",
   "metadata": {},
   "source": [
    "Heuristic algorithm with bad choosing of depots and bad TS"
   ]
  },
  {
   "cell_type": "code",
   "execution_count": 7,
   "metadata": {
    "collapsed": true
   },
   "outputs": [],
   "source": [
    "#A=np.array([[0, 10, 5, 2], [10, 0, 7, 3], [5, 7, 0, 6], [2, 3, 6, 0]])\n",
    "#max_k=3\n",
    "#C_0=100\n",
    "#C_t=1\n",
    "def Heuristic_1(A,max_k,C_0,C_t):\n",
    "    n=np.shape(A)[0]\n",
    "    maxval=A.max()+1\n",
    "    e=np.zeros(n)+1\n",
    "    x=np.zeros(n)\n",
    "    Cost=np.zeros(n+1)+n*C_0\n",
    "    k=0\n",
    "    while k < max_k:\n",
    "        m=0\n",
    "        k=k+1\n",
    "        x1=np.copy(x)\n",
    "        while m < n:\n",
    "            if x[m]==1:\n",
    "                m=m+1\n",
    "            else:\n",
    "                x[m]=1\n",
    "                dist=distances(A,x)\n",
    " #               print(dist)\n",
    "                TotCost=k*C_0+C_t*(2*e.dot(dist))\n",
    "#                print(TotCost)\n",
    "                if TotCost<Cost[k-1]:\n",
    "                    Cost[k]=TotCost\n",
    "                    m=n\n",
    "                else:\n",
    "                    x[m]=0\n",
    "                    m+=1\n",
    "        if e.dot(x1-x)==0:\n",
    "            k=max_k\n",
    "    if e.dot(x)==0:\n",
    "        x=x+1\n",
    "    return np.min(Cost), np.argmin(Cost), x\n",
    "\n",
    "#print(Heuristic_1(A,max_k,C_0,C_t))"
   ]
  },
  {
   "cell_type": "code",
   "execution_count": 9,
   "metadata": {},
   "outputs": [
    {
     "name": "stdout",
     "output_type": "stream",
     "text": [
      "(122.0, 1, array([ 0.,  0.,  0.,  1.]))\n"
     ]
    }
   ],
   "source": [
    "A=np.array([[0, 10, 5, 2], [10, 0, 7, 3], [5, 7, 0, 6], [2, 3, 6, 0]])\n",
    "max_k=2\n",
    "C_0=100\n",
    "C_t=1\n",
    "n=10\n",
    "\n",
    "def Heuristic_fast(A,max_k,C_0,C_t):\n",
    "    n=np.shape(A)[0]\n",
    "    maxval=A.max()+1\n",
    "    e=np.zeros(n)+1\n",
    "    x=np.zeros(n)\n",
    "    Cost=np.zeros(n+1)+n*C_0\n",
    "    k=0\n",
    "    y=stationar(A)\n",
    "    while k < max_k:\n",
    "        k=k+1\n",
    "        x1=np.copy(x)\n",
    "        x[np.argmin(y)]=1\n",
    "        y[np.argmin(y)]=maxval\n",
    "        dist=distances(A,x)\n",
    "#        print(dist)\n",
    "        TotCost=k*C_0+C_t*(2*e.dot(dist))\n",
    "#        print(TotCost)\n",
    "        if TotCost<Cost[k-1]:\n",
    "            Cost[k]=TotCost\n",
    "        else:\n",
    "            k=max_k\n",
    "            x=x1\n",
    "    if e.dot(x)==0:\n",
    "        x=x+1\n",
    "    return np.min(Cost), np.argmin(Cost), x\n",
    "\n",
    "print(Heuristic_fast(A,max_k,C_0,C_t))"
   ]
  },
  {
   "cell_type": "code",
   "execution_count": 10,
   "metadata": {
    "collapsed": true
   },
   "outputs": [],
   "source": [
    "def createA(n):\n",
    "    coord=np.random.randint(0, 100, size=(n,2))\n",
    "    A=np.zeros([n,n])\n",
    "    for i in range(n):\n",
    "        for j in range (n):\n",
    "            A[i,j]=((coord[i,0]-coord[j,0])**2+(coord[i,1]-coord[j,1])**2)**(0.5)\n",
    "            A[j,i]=A[i,j]\n",
    "    return A"
   ]
  },
  {
   "cell_type": "code",
   "execution_count": 11,
   "metadata": {},
   "outputs": [
    {
     "name": "stdout",
     "output_type": "stream",
     "text": [
      "795 6\n",
      "(4817.0967510665596, 1, array([ 0.,  1.,  0.,  0.,  0.,  0.,  0.,  0.,  0.,  0.]))\n",
      "(4776.9376700389803, 3, array([ 1.,  1.,  0.,  0.,  1.,  0.,  0.,  0.,  0.,  0.]))\n"
     ]
    }
   ],
   "source": [
    "n=10\n",
    "A=createA(n)\n",
    "C_0=np.random.randint(100,1000)\n",
    "C_t=np.random.randint(1,10)\n",
    "max_k=n/2\n",
    "print(C_0,C_t)\n",
    "print(Heuristic_fast(A,max_k,C_0,C_t))\n",
    "print(Heuristic_1(A,max_k,C_0,C_t))"
   ]
  },
  {
   "cell_type": "code",
   "execution_count": null,
   "metadata": {
    "collapsed": true
   },
   "outputs": [],
   "source": []
  },
  {
   "cell_type": "code",
   "execution_count": null,
   "metadata": {
    "collapsed": true
   },
   "outputs": [],
   "source": []
  }
 ],
 "metadata": {
  "kernelspec": {
   "display_name": "Python 3",
   "language": "python",
   "name": "python3"
  },
  "language_info": {
   "codemirror_mode": {
    "name": "ipython",
    "version": 3
   },
   "file_extension": ".py",
   "mimetype": "text/x-python",
   "name": "python",
   "nbconvert_exporter": "python",
   "pygments_lexer": "ipython3",
   "version": "3.6.3"
  }
 },
 "nbformat": 4,
 "nbformat_minor": 2
}
